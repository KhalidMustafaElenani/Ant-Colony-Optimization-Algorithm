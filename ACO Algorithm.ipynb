{
  "nbformat": 4,
  "nbformat_minor": 0,
  "metadata": {
    "colab": {
      "provenance": []
    },
    "kernelspec": {
      "name": "python3",
      "display_name": "Python 3"
    },
    "language_info": {
      "name": "python"
    }
  },
  "cells": [
    {
      "cell_type": "markdown",
      "source": [
        "## Introduction\n"
      ],
      "metadata": {
        "id": "y1gUbTCxrb67"
      }
    },
    {
      "cell_type": "markdown",
      "source": [
        "The Ant Colony Optimization (ACO) algorithm is a metaheuristic inspired by the foraging behavior of ants. In this implementation, ants construct solutions to a given optimization problem by iteratively moving through a solution space while depositing and sensing pheromone levels on edges. Over time, the algorithm converges towards optimal or near-optimal solutions, leveraging both local and global information."
      ],
      "metadata": {
        "id": "kJvRzRqgrae8"
      }
    },
    {
      "cell_type": "markdown",
      "source": [
        "## 1. Initialization:\n"
      ],
      "metadata": {
        "id": "fKUFdzhAaW5Y"
      }
    },
    {
      "cell_type": "code",
      "source": [
        "import random"
      ],
      "metadata": {
        "id": "f22bjiw-sc8U"
      },
      "execution_count": null,
      "outputs": []
    },
    {
      "cell_type": "code",
      "source": [
        "# Define your distance matrix\n",
        "distance_matrix = [\n",
        "    [0, 5, 15, 4],\n",
        "    [5, 0, 4, 8],\n",
        "    [15, 4, 0, 1],\n",
        "    [4, 8, 1, 0]\n",
        "]"
      ],
      "metadata": {
        "id": "c3iyo5VzYMTK"
      },
      "execution_count": null,
      "outputs": []
    },
    {
      "cell_type": "code",
      "source": [
        "# Define model parameters\n",
        "rho = 0.05  # Evaporation rate           ->\tρ\n",
        "Q = 50      # Pheromone deposit constant -> Q\n",
        "\n",
        "alpha = 0.1  # Pheromone influence       -> α\n",
        "beta = 0.2   # Heuristic influence       -> β\n",
        "\n",
        "initial_pheromone = 0.1  # Initial pheromone level\n",
        "num_iterations = 10      # Number of iterations\n",
        "num_ants = 6             # Number of ants"
      ],
      "metadata": {
        "id": "F4KHtyj0sfHa"
      },
      "execution_count": null,
      "outputs": []
    },
    {
      "cell_type": "code",
      "source": [
        "def initialize_pheromones(num_nodes, initial_pheromone):\n",
        "    \"\"\"\n",
        "    Initializes pheromone levels on each edge of the graph.\n",
        "    \"\"\"\n",
        "    return [[initial_pheromone] * num_nodes for _ in range(num_nodes)]"
      ],
      "metadata": {
        "id": "JXsc8Agj9sb8"
      },
      "execution_count": null,
      "outputs": []
    },
    {
      "cell_type": "markdown",
      "source": [
        "## 2. Ant Movement:\n"
      ],
      "metadata": {
        "id": "r534kflL-Zeo"
      }
    },
    {
      "cell_type": "markdown",
      "source": [
        "```\n",
        "       α       β\n",
        "      τ   x   η\n",
        "P = -------------\n",
        "       α       β\n",
        "    ∑ τ   x   η\n",
        "```\n",
        "\n",
        "\n"
      ],
      "metadata": {
        "id": "ItpS9-I6adPg"
      }
    },
    {
      "cell_type": "code",
      "source": [
        "def calculate_probabilities(current_node, visited, distance_matrix, pheromone_matrix, alpha, beta):\n",
        "    \"\"\"\n",
        "    Calculate probabilities for choosing the next node based on pheromone levels and distance information.\n",
        "    \"\"\"\n",
        "    num_nodes = len(distance_matrix)\n",
        "    probabilities = []\n",
        "    denominator = 0\n",
        "\n",
        "    # Calculate probabilities for choosing the next node\n",
        "    for next_node in range(num_nodes):\n",
        "        if not visited[next_node]:\n",
        "            # Calculate pheromone and distance values\n",
        "            pheromone = pheromone_matrix[current_node][next_node]     # Pheromone -> τ\n",
        "            distance = distance_matrix[current_node][next_node]       # Distance  -> η\n",
        "            # Calculate numerator\n",
        "            numerator = pheromone ** alpha * distance ** beta\n",
        "            # Accumulate the denominator\n",
        "            denominator += numerator\n",
        "\n",
        "            # Calculate probability for this next node\n",
        "            probability = numerator / denominator\n",
        "\n",
        "            # Store the probability and next node index\n",
        "            probabilities.append((next_node, probability))\n",
        "    return probabilities"
      ],
      "metadata": {
        "id": "F514zk_Id5O1"
      },
      "execution_count": null,
      "outputs": []
    },
    {
      "cell_type": "code",
      "source": [
        "def generate_ant_solution(distance_matrix, pheromone_matrix, alpha, beta):\n",
        "    \"\"\"\n",
        "    Generates a solution for a single ant by constructing a path based on pheromone levels and heuristic information.\n",
        "    \"\"\"\n",
        "    num_nodes = len(distance_matrix)  # Number of nodes\n",
        "    visited = [False] * num_nodes     # Track visited nodes\n",
        "    ant_path = []                     # Ant's path\n",
        "\n",
        "    current_node = random.randint(0, num_nodes - 1)  # Choose a random starting node\n",
        "    visited[current_node] = True      # Mark starting node as visited\n",
        "    ant_path.append(current_node)     # Add starting node to path\n",
        "\n",
        "    # Continue until all nodes are visited\n",
        "    while len(ant_path) < num_nodes:\n",
        "        probabilities = calculate_probabilities(current_node, visited, distance_matrix, pheromone_matrix, alpha, beta)  # Calculate probabilities\n",
        "        selected_node = random.choices([node for node, _ in probabilities], [prob for _, prob in probabilities])[0]     # Choose next node\n",
        "\n",
        "        ant_path.append(selected_node)  # Move to selected node\n",
        "        visited[selected_node] = True   # Mark selected node as visited\n",
        "        current_node = selected_node    # Update current node\n",
        "\n",
        "    return ant_path  # Return ant's path"
      ],
      "metadata": {
        "id": "LkaEZ_hoACs8"
      },
      "execution_count": null,
      "outputs": []
    },
    {
      "cell_type": "markdown",
      "source": [
        "## 3. Pheromone Update:"
      ],
      "metadata": {
        "id": "hw1D0TP6BHFk"
      }
    },
    {
      "cell_type": "markdown",
      "source": [
        "\n",
        "```                                                     \n",
        "τ = (1-ρ) τ       &     \tτ =  τ   + ∑ ∆τ   &      ∆𝜏 = Q / len\n",
        " new       old             new  old\n",
        "\n",
        "```\n",
        "\n"
      ],
      "metadata": {
        "id": "ZK-N272hjSvz"
      }
    },
    {
      "cell_type": "code",
      "source": [
        "def update_pheromones(pheromone_matrix, ant_solutions, rho):\n",
        "    \"\"\"\n",
        "    Updates pheromone levels on each edge of the graph.\n",
        "    \"\"\"\n",
        "    num_nodes = len(pheromone_matrix)  # Number of nodes\n",
        "\n",
        "    # Evaporate pheromones\n",
        "    for i in range(num_nodes):\n",
        "        for j in range(num_nodes):\n",
        "          pheromone_matrix[i][j] = (1 - rho) * pheromone_matrix[i][j]\n",
        "\n",
        "    # Deposit pheromones\n",
        "    for ant_path in ant_solutions:\n",
        "        for i in range(len(ant_path) - 1):\n",
        "            # Calculate the change in pheromone level\n",
        "            delta_tau = Q / len(ant_path)\n",
        "            # Deposit pheromone\n",
        "            pheromone_matrix[ant_path[i]][ant_path[i+1]] += delta_tau"
      ],
      "metadata": {
        "id": "__0BZHJcsjgt"
      },
      "execution_count": null,
      "outputs": []
    },
    {
      "cell_type": "markdown",
      "source": [
        "## 4. Solution Evaluation:"
      ],
      "metadata": {
        "id": "H5Nf9yeRBhMn"
      }
    },
    {
      "cell_type": "code",
      "source": [
        "def calculate_path_distance(path, distance_matrix):\n",
        "    distance = 0\n",
        "    for i in range(len(path) - 1):\n",
        "        # Add distance between current node and next node to total distance\n",
        "        distance += distance_matrix[path[i]][path[i+1]]\n",
        "    return distance\n",
        "\n",
        "def choose_best_solution(ant_solutions, distance_matrix):\n",
        "    # Find the solution with the minimum total distance\n",
        "    best_solution = min(ant_solutions, key=lambda x: calculate_path_distance(x, distance_matrix))\n",
        "    return best_solution"
      ],
      "metadata": {
        "id": "MLAVO-xMBfYV"
      },
      "execution_count": null,
      "outputs": []
    },
    {
      "cell_type": "code",
      "source": [
        "def calculate_total_pheromone(best_solution, pheromone_matrix):\n",
        "    \"\"\"\n",
        "    Calculates the total pheromone level along the edges of the best solution path.\n",
        "    \"\"\"\n",
        "    total_pheromone = 0\n",
        "    for i in range(len(best_solution) - 1):\n",
        "        total_pheromone += pheromone_matrix[best_solution[i]][best_solution[i + 1]]\n",
        "    return total_pheromone"
      ],
      "metadata": {
        "id": "wrA2HvaVUJqu"
      },
      "execution_count": null,
      "outputs": []
    },
    {
      "cell_type": "code",
      "source": [
        "def print_shortest_path(iteration, shortest_path, distance_matrix, pheromone_matrix):\n",
        "    \"\"\"\n",
        "    Print information about the shortest path found in an iteration.\n",
        "    \"\"\"\n",
        "    # Calculate the distance\n",
        "    distance = calculate_path_distance(shortest_path, distance_matrix)\n",
        "    # Calculate the pheromone\n",
        "    total_pheromone = int(calculate_total_pheromone(shortest_path, pheromone_matrix))\n",
        "\n",
        "    path_str = \" -> \".join(str(node) for node in shortest_path)\n",
        "    print(f\"Iteration {iteration + 1}: \\tShortest Path: {path_str} \\tDistance = {distance} \\t\\tPheromone Level: {total_pheromone}\")\n"
      ],
      "metadata": {
        "id": "cHySmetAB9_1"
      },
      "execution_count": null,
      "outputs": []
    },
    {
      "cell_type": "markdown",
      "source": [
        "## 5. Main Algorithm Execution:"
      ],
      "metadata": {
        "id": "tGByVLTgEC-h"
      }
    },
    {
      "cell_type": "code",
      "source": [
        "def main():\n",
        "    # Initialize pheromone matrix\n",
        "    num_nodes = len(distance_matrix)\n",
        "    pheromone_matrix = initialize_pheromones(num_nodes, initial_pheromone)\n",
        "\n",
        "    # Main loop\n",
        "    for iteration in range(num_iterations):\n",
        "        # Generate solutions for each ant\n",
        "        ant_solutions = [generate_ant_solution(distance_matrix, pheromone_matrix, alpha, beta) for _ in range(num_ants)]\n",
        "\n",
        "        # Update pheromone levels based on the solutions\n",
        "        update_pheromones(pheromone_matrix, ant_solutions, rho)\n",
        "\n",
        "        # Choose the best solution found so far\n",
        "        best_solution = choose_best_solution(ant_solutions, distance_matrix)\n",
        "\n",
        "        # Print the shortest path found in this iteration\n",
        "        print_shortest_path(iteration, best_solution, distance_matrix, pheromone_matrix)\n",
        "\n",
        "    # Calculate distance of best solution\n",
        "    best_distance = calculate_path_distance(best_solution, distance_matrix)\n",
        "\n",
        "    # Calculate the total pheromone level along the edges of the best solution path\n",
        "    total_pheromone_best_solution = int(calculate_total_pheromone(best_solution, pheromone_matrix))\n",
        "\n",
        "    # Print the final best solution and its distance\n",
        "    print(\"=\" * 110)\n",
        "    print(f\"Final Solution: {best_solution}, \\tDistance = {best_distance}, \\tPheromone Level: {total_pheromone_best_solution}\")"
      ],
      "metadata": {
        "id": "cc-8nxl3sbfo"
      },
      "execution_count": null,
      "outputs": []
    },
    {
      "cell_type": "code",
      "source": [
        "if __name__ == \"__main__\":\n",
        "    main()"
      ],
      "metadata": {
        "colab": {
          "base_uri": "https://localhost:8080/"
        },
        "id": "QnM3DQiKsngd",
        "outputId": "dc26fef6-4640-43e3-91ea-dd8bc85d1df5"
      },
      "execution_count": null,
      "outputs": [
        {
          "output_type": "stream",
          "name": "stdout",
          "text": [
            "Iteration 1: \tShortest Path: 0 -> 3 -> 1 -> 2 \tDistance = 16 \t\tPheromone Level: 112\n",
            "Iteration 2: \tShortest Path: 1 -> 2 -> 3 -> 0 \tDistance = 9 \t\tPheromone Level: 159\n",
            "Iteration 3: \tShortest Path: 0 -> 3 -> 2 -> 1 \tDistance = 9 \t\tPheromone Level: 133\n",
            "Iteration 4: \tShortest Path: 1 -> 0 -> 3 -> 2 \tDistance = 10 \t\tPheromone Level: 221\n",
            "Iteration 5: \tShortest Path: 0 -> 3 -> 2 -> 1 \tDistance = 9 \t\tPheromone Level: 255\n",
            "Iteration 6: \tShortest Path: 1 -> 0 -> 3 -> 2 \tDistance = 10 \t\tPheromone Level: 408\n",
            "Iteration 7: \tShortest Path: 0 -> 1 -> 2 -> 3 \tDistance = 10 \t\tPheromone Level: 286\n",
            "Iteration 8: \tShortest Path: 0 -> 1 -> 2 -> 3 \tDistance = 10 \t\tPheromone Level: 359\n",
            "Iteration 9: \tShortest Path: 0 -> 1 -> 2 -> 3 \tDistance = 10 \t\tPheromone Level: 441\n",
            "Iteration 10: \tShortest Path: 1 -> 2 -> 3 -> 0 \tDistance = 9 \t\tPheromone Level: 414\n",
            "==============================================================================================================\n",
            "Final Solution: [1, 2, 3, 0], \tDistance = 9, \tPheromone Level: 414\n"
          ]
        }
      ]
    },
    {
      "cell_type": "markdown",
      "source": [
        "## Conclusion:\n"
      ],
      "metadata": {
        "id": "SfGp3pxurpqX"
      }
    },
    {
      "cell_type": "markdown",
      "source": [
        "\n",
        "*   After running the ACO algorithm, the final solution obtained is [1, 2, 3, 0], with a distance of 9 units.\n",
        "*   This solution exhibits a significant level of pheromone deposition, reaching a total pheromone level of 414.\n",
        "*   Through the collaborative effort of multiple ants and the pheromone updating mechanism, the algorithm effectively identifies a path that minimizes distance while maximizing pheromone presence, showcasing the efficacy of the ACO paradigm in solving complex optimization problems.\n",
        "\n",
        "\n",
        "\n",
        "  "
      ],
      "metadata": {
        "id": "7MV68tfUro9S"
      }
    }
  ]
}